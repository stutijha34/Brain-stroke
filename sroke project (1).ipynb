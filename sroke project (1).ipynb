{
 "cells": [
  {
   "cell_type": "code",
   "execution_count": 2,
   "id": "b0f41b7a",
   "metadata": {},
   "outputs": [
    {
     "name": "stderr",
     "output_type": "stream",
     "text": [
      "C:\\Users\\STUTI\\AppData\\Local\\Programs\\Python\\Python311\\Lib\\site-packages\\sklearn\\base.py:465: UserWarning: X does not have valid feature names, but RandomForestClassifier was fitted with feature names\n",
      "  warnings.warn(\n"
     ]
    }
   ],
   "source": [
    "import tkinter as tk\n",
    "from tkinter import ttk\n",
    "from sklearn.ensemble import RandomForestClassifier\n",
    "from sklearn.model_selection import train_test_split\n",
    "from sklearn.metrics import accuracy_score\n",
    "import pandas as pd\n",
    "\n",
    "class StrokePredictionApp:\n",
    "    def __init__(self, root):\n",
    "        self.root = root\n",
    "        self.root.title(\"Stroke Prediction\")\n",
    "        \n",
    "        # Create labels and entry fields\n",
    "        ttk.Label(root, text=\"Age:\").grid(row=0, column=0, padx=5, pady=5)\n",
    "        self.age_entry = ttk.Entry(root)\n",
    "        self.age_entry.grid(row=0, column=1, padx=5, pady=5)\n",
    "        \n",
    "        ttk.Label(root, text=\"Hypertension (0/1):\").grid(row=1, column=0, padx=5, pady=5)\n",
    "        self.hypertension_entry = ttk.Entry(root)\n",
    "        self.hypertension_entry.grid(row=1, column=1, padx=5, pady=5)\n",
    "        \n",
    "        ttk.Label(root, text=\"Heart Disease (0/1):\").grid(row=2, column=0, padx=5, pady=5)\n",
    "        self.heart_disease_entry = ttk.Entry(root)\n",
    "        self.heart_disease_entry.grid(row=2, column=1, padx=5, pady=5)\n",
    "        \n",
    "        ttk.Label(root, text=\"Avg Glucose Level:\").grid(row=3, column=0, padx=5, pady=5)\n",
    "        self.avg_glucose_level_entry = ttk.Entry(root)\n",
    "        self.avg_glucose_level_entry.grid(row=3, column=1, padx=5, pady=5)\n",
    "        \n",
    "        ttk.Label(root, text=\"BMI:\").grid(row=4, column=0, padx=5, pady=5)\n",
    "        self.bmi_entry = ttk.Entry(root)\n",
    "        self.bmi_entry.grid(row=4, column=1, padx=5, pady=5)\n",
    "        \n",
    "        # Create predict button\n",
    "        self.predict_button = ttk.Button(root, text=\"Predict\", command=self.predict)\n",
    "        self.predict_button.grid(row=5, column=0, columnspan=2, padx=5, pady=5)\n",
    "        \n",
    "        # Create output label\n",
    "        self.output_label = ttk.Label(root, text=\"\")\n",
    "        self.output_label.grid(row=6, column=0, columnspan=2, padx=5, pady=5)\n",
    "        \n",
    "    def predict(self):\n",
    "        # Load the dataset (replace with your own dataset)\n",
    "        data = pd.read_csv(\"stroke.csv\")\n",
    "        \n",
    "        # Preprocess the input data\n",
    "        age = float(self.age_entry.get())\n",
    "        hypertension = int(self.hypertension_entry.get())\n",
    "        heart_disease = int(self.heart_disease_entry.get())\n",
    "        avg_glucose_level = float(self.avg_glucose_level_entry.get())\n",
    "        bmi = float(self.bmi_entry.get())\n",
    "        \n",
    "        # Train a model (replace with your own model training code)\n",
    "        X = data[['age', 'hypertension', 'heart_disease', 'avg_glucose_level', 'bmi']]\n",
    "        y = data['stroke']\n",
    "        X_train, X_test, y_train, y_test = train_test_split(X, y, test_size=0.2, random_state=42)\n",
    "        model = RandomForestClassifier()\n",
    "        model.fit(X_train, y_train)\n",
    "        \n",
    "        # Make a prediction\n",
    "        prediction = model.predict([[age, hypertension, heart_disease, avg_glucose_level, bmi]])\n",
    "        \n",
    "        # Display the prediction\n",
    "        if prediction[0] == 1:\n",
    "            self.output_label.config(text=\"High Risk of Stroke\")\n",
    "        else:\n",
    "            self.output_label.config(text=\"Low Risk of Stroke\")\n",
    "\n",
    "if __name__ == \"__main__\":\n",
    "    root = tk.Tk()\n",
    "    app = StrokePredictionApp(root)\n",
    "    root.mainloop()\n"
   ]
  }
 ],
 "metadata": {
  "kernelspec": {
   "display_name": "Python 3 (ipykernel)",
   "language": "python",
   "name": "python3"
  },
  "language_info": {
   "codemirror_mode": {
    "name": "ipython",
    "version": 3
   },
   "file_extension": ".py",
   "mimetype": "text/x-python",
   "name": "python",
   "nbconvert_exporter": "python",
   "pygments_lexer": "ipython3",
   "version": "3.11.3"
  }
 },
 "nbformat": 4,
 "nbformat_minor": 5
}
